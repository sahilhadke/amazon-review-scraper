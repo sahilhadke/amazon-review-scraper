{
 "cells": [
  {
   "cell_type": "code",
   "execution_count": 22,
   "metadata": {},
   "outputs": [],
   "source": [
    "import dotenv\n",
    "import os\n",
    "from playwright.async_api import async_playwright\n",
    "import time\n",
    "import random\n",
    "import json"
   ]
  },
  {
   "cell_type": "code",
   "execution_count": 24,
   "metadata": {},
   "outputs": [],
   "source": [
    "# load environment variables\n",
    "env = dotenv.load_dotenv()\n",
    "\n",
    "amazon_home = \"https://www.amazon.com/\""
   ]
  },
  {
   "cell_type": "code",
   "execution_count": 25,
   "metadata": {},
   "outputs": [
    {
     "data": {
      "text/plain": [
       "<Response url='https://www.amazon.com/' request=<Request url='https://www.amazon.com/' method='GET'>>"
      ]
     },
     "execution_count": 25,
     "metadata": {},
     "output_type": "execute_result"
    }
   ],
   "source": [
    "# Launch Browser\n",
    "async def start_browser():\n",
    "    p = await async_playwright().start()\n",
    "    browser = await p.chromium.launch(\n",
    "        headless=False\n",
    "        # executable_path=\"/Users/sahilhadke/Library/Caches/ms-playwright/firefox-1471/firefox/firefox\"\n",
    "    )\n",
    "    context = await browser.new_context()\n",
    "    page = await context.new_page()\n",
    "    return p, browser, context, page\n",
    "\n",
    "# Execute this block to start the browser\n",
    "p, browser, context, page = await start_browser()\n",
    "await page.goto(amazon_home)"
   ]
  },
  {
   "cell_type": "code",
   "execution_count": 26,
   "metadata": {},
   "outputs": [],
   "source": [
    "# Login Manually\n",
    "async def login():\n",
    "    # click on sign in button\n",
    "    sign_in_button = await page.wait_for_selector(\"//a[@data-nav-role='signin']\")\n",
    "    await sign_in_button.click()\n",
    "\n",
    "    # enter email\n",
    "    email_input = await page.wait_for_selector(\"input[type='email']\")\n",
    "    await email_input.fill(os.getenv(\"AMAZON_EMAIL\"))\n",
    "\n",
    "    # click on continue\n",
    "    continue_button = await page.wait_for_selector(\"//input[@id='continue']\")\n",
    "\n",
    "    # click on continue\n",
    "    await continue_button.click()\n",
    "\n",
    "    # enter password\n",
    "    password_input = await page.wait_for_selector(\"input[type='password']\")\n",
    "    await password_input.fill(os.getenv(\"AMAZON_PASSWORD\"))\n",
    "\n",
    "    # click on sign in\n",
    "    sign_in_button = await page.wait_for_selector(\"//input[@id='signInSubmit']\")\n",
    "    await sign_in_button.click()\n",
    "\n",
    "# Execute this block to login\n",
    "await login()"
   ]
  },
  {
   "cell_type": "code",
   "execution_count": null,
   "metadata": {},
   "outputs": [
    {
     "name": "stdout",
     "output_type": "stream",
     "text": [
      "63,846\n",
      "103,954\n",
      "42,380\n",
      "35,132\n",
      "99,955\n",
      "18,744\n",
      "1,937\n",
      "1,490\n",
      "86\n",
      "297\n",
      "8,549\n",
      "37,828\n",
      "3\n",
      "2,672\n",
      "53\n",
      "28\n",
      "45\n",
      "16\n",
      "20\n",
      "7\n"
     ]
    },
    {
     "ename": "AttributeError",
     "evalue": "'NoneType' object has no attribute 'inner_text'",
     "output_type": "error",
     "traceback": [
      "\u001b[0;31m---------------------------------------------------------------------------\u001b[0m",
      "\u001b[0;31mAttributeError\u001b[0m                            Traceback (most recent call last)",
      "Cell \u001b[0;32mIn[28], line 29\u001b[0m\n\u001b[1;32m     27\u001b[0m \u001b[38;5;66;03m# total reivew count (//span[@data-hook=\"total-review-count\"])[1]\u001b[39;00m\n\u001b[1;32m     28\u001b[0m total_review_count \u001b[38;5;241m=\u001b[39m \u001b[38;5;28;01mawait\u001b[39;00m page\u001b[38;5;241m.\u001b[39mquery_selector(\u001b[38;5;124m\"\u001b[39m\u001b[38;5;124m//div[@data-hook=\u001b[39m\u001b[38;5;124m'\u001b[39m\u001b[38;5;124mtotal-review-count\u001b[39m\u001b[38;5;124m'\u001b[39m\u001b[38;5;124m]//span\u001b[39m\u001b[38;5;124m\"\u001b[39m)\n\u001b[0;32m---> 29\u001b[0m total_review_count \u001b[38;5;241m=\u001b[39m \u001b[38;5;28;01mawait\u001b[39;00m \u001b[43mtotal_review_count\u001b[49m\u001b[38;5;241;43m.\u001b[39;49m\u001b[43minner_text\u001b[49m()\n\u001b[1;32m     30\u001b[0m total_review_count \u001b[38;5;241m=\u001b[39m total_review_count\u001b[38;5;241m.\u001b[39msplit()[\u001b[38;5;241m0\u001b[39m]\n\u001b[1;32m     31\u001b[0m \u001b[38;5;28mprint\u001b[39m(total_review_count)\n",
      "\u001b[0;31mAttributeError\u001b[0m: 'NoneType' object has no attribute 'inner_text'"
     ]
    }
   ],
   "source": [
    "# read all json files from directory ./output\n",
    "json_files = [f for f in os.listdir('/Users/sahilhadke/Desktop/PROJECTS/amazon-review-scraper/output') if f.endswith('.json')]\n",
    "for json_file in json_files:\n",
    "    with open(f\"./output/{json_file}\", 'r') as file:\n",
    "        data = json.load(file)\n",
    "        \n",
    "        for product in data['products']:\n",
    "            url_to_scrape = product['url'] \n",
    "\n",
    "            if \"total_review_count\" in product:\n",
    "                continue\n",
    "\n",
    "            # go to url\n",
    "            await page.goto(url_to_scrape)\n",
    "\n",
    "            # scrape number of ratings\n",
    "            # Scroll to Reviews Section\n",
    "            for _ in range(20):\n",
    "                await page.evaluate(\"window.scrollBy(0, 1000)\")\n",
    "                time.sleep(0.5)\n",
    "\n",
    "                review_more_link = await page.query_selector(\"//a[@data-hook='see-all-reviews-link-foot']\")\n",
    "                if review_more_link:\n",
    "                    await review_more_link.scroll_into_view_if_needed()\n",
    "                    await review_more_link.click()\n",
    "                    break\n",
    "\n",
    "            time.sleep(2)\n",
    "\n",
    "            # total reivew count (//span[@data-hook=\"total-review-count\"])[1]\n",
    "            total_review_count = await page.query_selector(\"//div[@data-hook='total-review-count']//span\")\n",
    "            if not total_review_count:\n",
    "                continue\n",
    "            total_review_count = await total_review_count.inner_text()\n",
    "            total_review_count = total_review_count.split()[0]\n",
    "            print(total_review_count)\n",
    "\n",
    "            # update the json file\n",
    "            product['total_review_count'] = total_review_count\n",
    "\n",
    "            # get arialabel text\n",
    "            for i in range(1, 6):\n",
    "                stars_xpath = f\"//ul[@id='histogramTable']//li[{i}]//a\"\n",
    "                star = await page.query_selector(stars_xpath)\n",
    "                try:\n",
    "                    arialabel = await star.get_attribute(\"aria-label\")\n",
    "                    # start \n",
    "                    star_number = arialabel.split(\" \")[0]\n",
    "                    percentage = \"\"\n",
    "                    for elem in arialabel.split(\" \"):\n",
    "                        if '%' in elem:\n",
    "                            percentage = elem\n",
    "                            break\n",
    "                    product[f\"{star_number}_star_rating_percentage\"] = percentage\n",
    "                except:\n",
    "                    product[f\"{6-i}_star_rating_percentage\"] = \"0%\"\n",
    "                \n",
    "                \n",
    "\n",
    "                # update product\n",
    "                \n",
    "            \n",
    "\n",
    "\n",
    "            with open(f\"./output/{json_file}\", 'w') as file:\n",
    "                json.dump(data, file, indent=4)\n",
    "\n",
    "            time.sleep(random.randint(1, 5))\n",
    "            \n",
    "            "
   ]
  },
  {
   "cell_type": "code",
   "execution_count": 14,
   "metadata": {},
   "outputs": [],
   "source": [
    "# close\n",
    "await browser.close()"
   ]
  }
 ],
 "metadata": {
  "kernelspec": {
   "display_name": "venv",
   "language": "python",
   "name": "python3"
  },
  "language_info": {
   "codemirror_mode": {
    "name": "ipython",
    "version": 3
   },
   "file_extension": ".py",
   "mimetype": "text/x-python",
   "name": "python",
   "nbconvert_exporter": "python",
   "pygments_lexer": "ipython3",
   "version": "3.11.7"
  }
 },
 "nbformat": 4,
 "nbformat_minor": 2
}
