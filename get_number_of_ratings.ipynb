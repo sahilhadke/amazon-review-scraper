{
 "cells": [
  {
   "cell_type": "code",
   "execution_count": 22,
   "metadata": {},
   "outputs": [],
   "source": [
    "import dotenv\n",
    "import os\n",
    "from playwright.async_api import async_playwright\n",
    "import time\n",
    "import random\n",
    "import json"
   ]
  },
  {
   "cell_type": "code",
   "execution_count": 24,
   "metadata": {},
   "outputs": [],
   "source": [
    "# load environment variables\n",
    "env = dotenv.load_dotenv()\n",
    "\n",
    "amazon_home = \"https://www.amazon.com/\""
   ]
  },
  {
   "cell_type": "code",
   "execution_count": 25,
   "metadata": {},
   "outputs": [
    {
     "data": {
      "text/plain": [
       "<Response url='https://www.amazon.com/' request=<Request url='https://www.amazon.com/' method='GET'>>"
      ]
     },
     "execution_count": 25,
     "metadata": {},
     "output_type": "execute_result"
    }
   ],
   "source": [
    "# Launch Browser\n",
    "async def start_browser():\n",
    "    p = await async_playwright().start()\n",
    "    browser = await p.chromium.launch(\n",
    "        headless=False\n",
    "        # executable_path=\"/Users/sahilhadke/Library/Caches/ms-playwright/firefox-1471/firefox/firefox\"\n",
    "    )\n",
    "    context = await browser.new_context()\n",
    "    page = await context.new_page()\n",
    "    return p, browser, context, page\n",
    "\n",
    "# Execute this block to start the browser\n",
    "p, browser, context, page = await start_browser()\n",
    "await page.goto(amazon_home)"
   ]
  },
  {
   "cell_type": "code",
   "execution_count": 26,
   "metadata": {},
   "outputs": [],
   "source": [
    "# Login Manually\n",
    "async def login():\n",
    "    # click on sign in button\n",
    "    sign_in_button = await page.wait_for_selector(\"//a[@data-nav-role='signin']\")\n",
    "    await sign_in_button.click()\n",
    "\n",
    "    # enter email\n",
    "    email_input = await page.wait_for_selector(\"input[type='email']\")\n",
    "    await email_input.fill(os.getenv(\"AMAZON_EMAIL\"))\n",
    "\n",
    "    # click on continue\n",
    "    continue_button = await page.wait_for_selector(\"//input[@id='continue']\")\n",
    "\n",
    "    # click on continue\n",
    "    await continue_button.click()\n",
    "\n",
    "    # enter password\n",
    "    password_input = await page.wait_for_selector(\"input[type='password']\")\n",
    "    await password_input.fill(os.getenv(\"AMAZON_PASSWORD\"))\n",
    "\n",
    "    # click on sign in\n",
    "    sign_in_button = await page.wait_for_selector(\"//input[@id='signInSubmit']\")\n",
    "    await sign_in_button.click()\n",
    "\n",
    "# Execute this block to login\n",
    "await login()"
   ]
  },
  {
   "cell_type": "code",
   "execution_count": 29,
   "metadata": {},
   "outputs": [
    {
     "name": "stdout",
     "output_type": "stream",
     "text": [
      "7\n",
      "3\n",
      "2\n",
      "1,767\n",
      "1,767\n",
      "137\n",
      "1,640\n",
      "1\n",
      "13,245\n",
      "23,973\n",
      "6,473\n",
      "602\n",
      "42\n",
      "42\n",
      "132,197\n",
      "31,834\n",
      "31,834\n",
      "29,093\n",
      "38,167\n",
      "38,167\n",
      "24,902\n",
      "18,101\n",
      "18,065\n",
      "18,101\n",
      "7,378\n",
      "6,466\n",
      "5,641\n",
      "3,968\n",
      "1,058\n"
     ]
    },
    {
     "ename": "TimeoutError",
     "evalue": "Page.goto: Timeout 30000ms exceeded.\nCall log:\n  - navigating to \"https://www.amazon.com/Hello-Bello-Disposable-Hypoallergenic-Cloth-Like/dp/B0DN7B9V5Y/ref=sr_1_2\", waiting until \"load\"\n",
     "output_type": "error",
     "traceback": [
      "\u001b[0;31m---------------------------------------------------------------------------\u001b[0m",
      "\u001b[0;31mTimeoutError\u001b[0m                              Traceback (most recent call last)",
      "Cell \u001b[0;32mIn[29], line 14\u001b[0m\n\u001b[1;32m     11\u001b[0m     \u001b[38;5;28;01mcontinue\u001b[39;00m\n\u001b[1;32m     13\u001b[0m \u001b[38;5;66;03m# go to url\u001b[39;00m\n\u001b[0;32m---> 14\u001b[0m \u001b[38;5;28;01mawait\u001b[39;00m page\u001b[38;5;241m.\u001b[39mgoto(url_to_scrape)\n\u001b[1;32m     16\u001b[0m \u001b[38;5;66;03m# scrape number of ratings\u001b[39;00m\n\u001b[1;32m     17\u001b[0m \u001b[38;5;66;03m# Scroll to Reviews Section\u001b[39;00m\n\u001b[1;32m     18\u001b[0m \u001b[38;5;28;01mfor\u001b[39;00m _ \u001b[38;5;129;01min\u001b[39;00m \u001b[38;5;28mrange\u001b[39m(\u001b[38;5;241m20\u001b[39m):\n",
      "File \u001b[0;32m~/Desktop/PROJECTS/amazon-review-scraper/venv/lib/python3.11/site-packages/playwright/async_api/_generated.py:8973\u001b[0m, in \u001b[0;36mPage.goto\u001b[0;34m(self, url, timeout, wait_until, referer)\u001b[0m\n\u001b[1;32m   8912\u001b[0m \u001b[38;5;28;01masync\u001b[39;00m \u001b[38;5;28;01mdef\u001b[39;00m\u001b[38;5;250m \u001b[39m\u001b[38;5;21mgoto\u001b[39m(\n\u001b[1;32m   8913\u001b[0m     \u001b[38;5;28mself\u001b[39m,\n\u001b[1;32m   8914\u001b[0m     url: \u001b[38;5;28mstr\u001b[39m,\n\u001b[0;32m   (...)\u001b[0m\n\u001b[1;32m   8920\u001b[0m     referer: typing\u001b[38;5;241m.\u001b[39mOptional[\u001b[38;5;28mstr\u001b[39m] \u001b[38;5;241m=\u001b[39m \u001b[38;5;28;01mNone\u001b[39;00m,\n\u001b[1;32m   8921\u001b[0m ) \u001b[38;5;241m-\u001b[39m\u001b[38;5;241m>\u001b[39m typing\u001b[38;5;241m.\u001b[39mOptional[\u001b[38;5;124m\"\u001b[39m\u001b[38;5;124mResponse\u001b[39m\u001b[38;5;124m\"\u001b[39m]:\n\u001b[1;32m   8922\u001b[0m \u001b[38;5;250m    \u001b[39m\u001b[38;5;124;03m\"\"\"Page.goto\u001b[39;00m\n\u001b[1;32m   8923\u001b[0m \n\u001b[1;32m   8924\u001b[0m \u001b[38;5;124;03m    Returns the main resource response. In case of multiple redirects, the navigation will resolve with the first\u001b[39;00m\n\u001b[0;32m   (...)\u001b[0m\n\u001b[1;32m   8969\u001b[0m \u001b[38;5;124;03m    Union[Response, None]\u001b[39;00m\n\u001b[1;32m   8970\u001b[0m \u001b[38;5;124;03m    \"\"\"\u001b[39;00m\n\u001b[1;32m   8972\u001b[0m     \u001b[38;5;28;01mreturn\u001b[39;00m mapping\u001b[38;5;241m.\u001b[39mfrom_impl_nullable(\n\u001b[0;32m-> 8973\u001b[0m         \u001b[38;5;28;01mawait\u001b[39;00m \u001b[38;5;28mself\u001b[39m\u001b[38;5;241m.\u001b[39m_impl_obj\u001b[38;5;241m.\u001b[39mgoto(\n\u001b[1;32m   8974\u001b[0m             url\u001b[38;5;241m=\u001b[39murl, timeout\u001b[38;5;241m=\u001b[39mtimeout, waitUntil\u001b[38;5;241m=\u001b[39mwait_until, referer\u001b[38;5;241m=\u001b[39mreferer\n\u001b[1;32m   8975\u001b[0m         )\n\u001b[1;32m   8976\u001b[0m     )\n",
      "File \u001b[0;32m~/Desktop/PROJECTS/amazon-review-scraper/venv/lib/python3.11/site-packages/playwright/_impl/_page.py:551\u001b[0m, in \u001b[0;36mPage.goto\u001b[0;34m(self, url, timeout, waitUntil, referer)\u001b[0m\n\u001b[1;32m    544\u001b[0m \u001b[38;5;28;01masync\u001b[39;00m \u001b[38;5;28;01mdef\u001b[39;00m\u001b[38;5;250m \u001b[39m\u001b[38;5;21mgoto\u001b[39m(\n\u001b[1;32m    545\u001b[0m     \u001b[38;5;28mself\u001b[39m,\n\u001b[1;32m    546\u001b[0m     url: \u001b[38;5;28mstr\u001b[39m,\n\u001b[0;32m   (...)\u001b[0m\n\u001b[1;32m    549\u001b[0m     referer: \u001b[38;5;28mstr\u001b[39m \u001b[38;5;241m=\u001b[39m \u001b[38;5;28;01mNone\u001b[39;00m,\n\u001b[1;32m    550\u001b[0m ) \u001b[38;5;241m-\u001b[39m\u001b[38;5;241m>\u001b[39m Optional[Response]:\n\u001b[0;32m--> 551\u001b[0m     \u001b[38;5;28;01mreturn\u001b[39;00m \u001b[38;5;28;01mawait\u001b[39;00m \u001b[38;5;28mself\u001b[39m\u001b[38;5;241m.\u001b[39m_main_frame\u001b[38;5;241m.\u001b[39mgoto(\u001b[38;5;241m*\u001b[39m\u001b[38;5;241m*\u001b[39mlocals_to_params(\u001b[38;5;28mlocals\u001b[39m()))\n",
      "File \u001b[0;32m~/Desktop/PROJECTS/amazon-review-scraper/venv/lib/python3.11/site-packages/playwright/_impl/_frame.py:145\u001b[0m, in \u001b[0;36mFrame.goto\u001b[0;34m(self, url, timeout, waitUntil, referer)\u001b[0m\n\u001b[1;32m    135\u001b[0m \u001b[38;5;28;01masync\u001b[39;00m \u001b[38;5;28;01mdef\u001b[39;00m\u001b[38;5;250m \u001b[39m\u001b[38;5;21mgoto\u001b[39m(\n\u001b[1;32m    136\u001b[0m     \u001b[38;5;28mself\u001b[39m,\n\u001b[1;32m    137\u001b[0m     url: \u001b[38;5;28mstr\u001b[39m,\n\u001b[0;32m   (...)\u001b[0m\n\u001b[1;32m    140\u001b[0m     referer: \u001b[38;5;28mstr\u001b[39m \u001b[38;5;241m=\u001b[39m \u001b[38;5;28;01mNone\u001b[39;00m,\n\u001b[1;32m    141\u001b[0m ) \u001b[38;5;241m-\u001b[39m\u001b[38;5;241m>\u001b[39m Optional[Response]:\n\u001b[1;32m    142\u001b[0m     \u001b[38;5;28;01mreturn\u001b[39;00m cast(\n\u001b[1;32m    143\u001b[0m         Optional[Response],\n\u001b[1;32m    144\u001b[0m         from_nullable_channel(\n\u001b[0;32m--> 145\u001b[0m             \u001b[38;5;28;01mawait\u001b[39;00m \u001b[38;5;28mself\u001b[39m\u001b[38;5;241m.\u001b[39m_channel\u001b[38;5;241m.\u001b[39msend(\u001b[38;5;124m\"\u001b[39m\u001b[38;5;124mgoto\u001b[39m\u001b[38;5;124m\"\u001b[39m, locals_to_params(\u001b[38;5;28mlocals\u001b[39m()))\n\u001b[1;32m    146\u001b[0m         ),\n\u001b[1;32m    147\u001b[0m     )\n",
      "File \u001b[0;32m~/Desktop/PROJECTS/amazon-review-scraper/venv/lib/python3.11/site-packages/playwright/_impl/_connection.py:61\u001b[0m, in \u001b[0;36mChannel.send\u001b[0;34m(self, method, params)\u001b[0m\n\u001b[1;32m     60\u001b[0m \u001b[38;5;28;01masync\u001b[39;00m \u001b[38;5;28;01mdef\u001b[39;00m\u001b[38;5;250m \u001b[39m\u001b[38;5;21msend\u001b[39m(\u001b[38;5;28mself\u001b[39m, method: \u001b[38;5;28mstr\u001b[39m, params: Dict \u001b[38;5;241m=\u001b[39m \u001b[38;5;28;01mNone\u001b[39;00m) \u001b[38;5;241m-\u001b[39m\u001b[38;5;241m>\u001b[39m Any:\n\u001b[0;32m---> 61\u001b[0m     \u001b[38;5;28;01mreturn\u001b[39;00m \u001b[38;5;28;01mawait\u001b[39;00m \u001b[38;5;28mself\u001b[39m\u001b[38;5;241m.\u001b[39m_connection\u001b[38;5;241m.\u001b[39mwrap_api_call(\n\u001b[1;32m     62\u001b[0m         \u001b[38;5;28;01mlambda\u001b[39;00m: \u001b[38;5;28mself\u001b[39m\u001b[38;5;241m.\u001b[39m_inner_send(method, params, \u001b[38;5;28;01mFalse\u001b[39;00m),\n\u001b[1;32m     63\u001b[0m         \u001b[38;5;28mself\u001b[39m\u001b[38;5;241m.\u001b[39m_is_internal_type,\n\u001b[1;32m     64\u001b[0m     )\n",
      "File \u001b[0;32m~/Desktop/PROJECTS/amazon-review-scraper/venv/lib/python3.11/site-packages/playwright/_impl/_connection.py:528\u001b[0m, in \u001b[0;36mConnection.wrap_api_call\u001b[0;34m(self, cb, is_internal)\u001b[0m\n\u001b[1;32m    526\u001b[0m     \u001b[38;5;28;01mreturn\u001b[39;00m \u001b[38;5;28;01mawait\u001b[39;00m cb()\n\u001b[1;32m    527\u001b[0m \u001b[38;5;28;01mexcept\u001b[39;00m \u001b[38;5;167;01mException\u001b[39;00m \u001b[38;5;28;01mas\u001b[39;00m error:\n\u001b[0;32m--> 528\u001b[0m     \u001b[38;5;28;01mraise\u001b[39;00m rewrite_error(error, \u001b[38;5;124mf\u001b[39m\u001b[38;5;124m\"\u001b[39m\u001b[38;5;132;01m{\u001b[39;00mparsed_st[\u001b[38;5;124m'\u001b[39m\u001b[38;5;124mapiName\u001b[39m\u001b[38;5;124m'\u001b[39m]\u001b[38;5;132;01m}\u001b[39;00m\u001b[38;5;124m: \u001b[39m\u001b[38;5;132;01m{\u001b[39;00merror\u001b[38;5;132;01m}\u001b[39;00m\u001b[38;5;124m\"\u001b[39m) \u001b[38;5;28;01mfrom\u001b[39;00m\u001b[38;5;250m \u001b[39m\u001b[38;5;28;01mNone\u001b[39;00m\n\u001b[1;32m    529\u001b[0m \u001b[38;5;28;01mfinally\u001b[39;00m:\n\u001b[1;32m    530\u001b[0m     \u001b[38;5;28mself\u001b[39m\u001b[38;5;241m.\u001b[39m_api_zone\u001b[38;5;241m.\u001b[39mset(\u001b[38;5;28;01mNone\u001b[39;00m)\n",
      "\u001b[0;31mTimeoutError\u001b[0m: Page.goto: Timeout 30000ms exceeded.\nCall log:\n  - navigating to \"https://www.amazon.com/Hello-Bello-Disposable-Hypoallergenic-Cloth-Like/dp/B0DN7B9V5Y/ref=sr_1_2\", waiting until \"load\"\n"
     ]
    }
   ],
   "source": [
    "# read all json files from directory ./output\n",
    "json_files = [f for f in os.listdir('/Users/sahilhadke/Desktop/PROJECTS/amazon-review-scraper/output') if f.endswith('.json')]\n",
    "for json_file in json_files:\n",
    "    with open(f\"./output/{json_file}\", 'r') as file:\n",
    "        data = json.load(file)\n",
    "        \n",
    "        for product in data['products']:\n",
    "            url_to_scrape = product['url'] \n",
    "\n",
    "            if \"total_review_count\" in product:\n",
    "                continue\n",
    "\n",
    "            # go to url\n",
    "            await page.goto(url_to_scrape)\n",
    "\n",
    "            # scrape number of ratings\n",
    "            # Scroll to Reviews Section\n",
    "            for _ in range(20):\n",
    "                await page.evaluate(\"window.scrollBy(0, 1000)\")\n",
    "                time.sleep(0.5)\n",
    "\n",
    "                review_more_link = await page.query_selector(\"//a[@data-hook='see-all-reviews-link-foot']\")\n",
    "                if review_more_link:\n",
    "                    await review_more_link.scroll_into_view_if_needed()\n",
    "                    await review_more_link.click()\n",
    "                    break\n",
    "\n",
    "            time.sleep(2)\n",
    "\n",
    "            # total reivew count (//span[@data-hook=\"total-review-count\"])[1]\n",
    "            total_review_count = await page.query_selector(\"//div[@data-hook='total-review-count']//span\")\n",
    "            if not total_review_count:\n",
    "                continue\n",
    "            total_review_count = await total_review_count.inner_text()\n",
    "            total_review_count = total_review_count.split()[0]\n",
    "            print(total_review_count)\n",
    "\n",
    "            # update the json file\n",
    "            product['total_review_count'] = total_review_count\n",
    "\n",
    "            # get arialabel text\n",
    "            for i in range(1, 6):\n",
    "                stars_xpath = f\"//ul[@id='histogramTable']//li[{i}]//a\"\n",
    "                star = await page.query_selector(stars_xpath)\n",
    "                try:\n",
    "                    arialabel = await star.get_attribute(\"aria-label\")\n",
    "                    # start \n",
    "                    star_number = arialabel.split(\" \")[0]\n",
    "                    percentage = \"\"\n",
    "                    for elem in arialabel.split(\" \"):\n",
    "                        if '%' in elem:\n",
    "                            percentage = elem\n",
    "                            break\n",
    "                    product[f\"{star_number}_star_rating_percentage\"] = percentage\n",
    "                except:\n",
    "                    product[f\"{6-i}_star_rating_percentage\"] = \"0%\"\n",
    "                \n",
    "                \n",
    "\n",
    "                # update product\n",
    "                \n",
    "            \n",
    "\n",
    "\n",
    "            with open(f\"./output/{json_file}\", 'w') as file:\n",
    "                json.dump(data, file, indent=4)\n",
    "\n",
    "            time.sleep(random.randint(1, 5))\n",
    "            \n",
    "            "
   ]
  },
  {
   "cell_type": "code",
   "execution_count": 14,
   "metadata": {},
   "outputs": [],
   "source": [
    "# close\n",
    "await browser.close()"
   ]
  }
 ],
 "metadata": {
  "kernelspec": {
   "display_name": "venv",
   "language": "python",
   "name": "python3"
  },
  "language_info": {
   "codemirror_mode": {
    "name": "ipython",
    "version": 3
   },
   "file_extension": ".py",
   "mimetype": "text/x-python",
   "name": "python",
   "nbconvert_exporter": "python",
   "pygments_lexer": "ipython3",
   "version": "3.11.7"
  }
 },
 "nbformat": 4,
 "nbformat_minor": 2
}
